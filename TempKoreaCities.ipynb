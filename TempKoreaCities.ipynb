{
 "cells": [
  {
   "cell_type": "code",
   "execution_count": 2,
   "metadata": {},
   "outputs": [],
   "source": [
    "import matplotlib.pyplot as plt\n",
    "from numpy.random import randn\n",
    "import numpy as np\n",
    "import pandas as pd\n",
    "from pandas import Series, DataFrame\n",
    "\n",
    "from matplotlib import font_manager\n",
    "import matplotlib"
   ]
  },
  {
   "cell_type": "code",
   "execution_count": 3,
   "metadata": {},
   "outputs": [
    {
     "name": "stdout",
     "output_type": "stream",
     "text": [
      "Malgun Gothic\n"
     ]
    }
   ],
   "source": [
    "### 한글 글꼴 설정\n",
    "font_name = font_manager.FontProperties(fname='C:/Windows/Fonts/malgun.ttf').get_name()\n",
    "    #이 명령은 matplotlib 라이브러리의 출력물에서 한글을 깨지지 않게 하는 데 목적이 있다.\n",
    "print(font_name)\n",
    "matplotlib.rc('font',family=font_name)\n",
    "    # 위에서 지정한 font인 malgun.ttf 이 놈을 등록한다"
   ]
  },
  {
   "cell_type": "code",
   "execution_count": 5,
   "metadata": {},
   "outputs": [
    {
     "name": "stdout",
     "output_type": "stream",
     "text": [
      "point          서울    인천    대전    대구    광주    부산    울산\n",
      "temperature  25.6  20.8  25.1  25.7  24.0  20.2  19.7\n",
      "humidity     30.0  54.0  37.0  31.0  35.0  66.0  70.0\n"
     ]
    },
    {
     "data": {
      "text/plain": [
       "<matplotlib.legend.Legend at 0x237199ebdc0>"
      ]
     },
     "execution_count": 5,
     "metadata": {},
     "output_type": "execute_result"
    },
    {
     "data": {
      "image/png": "[encoded data removed]",
      "text/plain": [
       "<Figure size 720x360 with 1 Axes>"
      ]
     },
     "metadata": {
      "needs_background": "light"
     },
     "output_type": "display_data"
    }
   ],
   "source": [
    "df = pd.read_csv('C:/Users/sunja/OneDrive/Desktop/SunJang/data/weather.csv',index_col='point',encoding='cp949')\n",
    "df\n",
    "\n",
    "df2 = df.loc[['서울','인천','대전','대구','광주','부산','울산']]\n",
    "df4 = df2.T\n",
    "print(df4)\n",
    "df3=df2.mean()\n",
    "df4['AVG'] = df3\n",
    "df5=df4.T\n",
    "\n",
    "ax = df5.plot(kind='bar', title='Temp of Cities',figsize=(10,5), legend=True, fontsize=12)\n",
    "ax.set_xlabel('City', fontsize=12)          \n",
    "ax.set_ylabel('Temperature/Humidity', fontsize=12)    \n",
    "ax.legend(['Temperature','Humidity'], fontsize=10,loc=\"upper right\")\n",
    "   \n"
   ]
  }
 ],
 "metadata": {
  "kernelspec": {
   "display_name": "Python 3.10.5 64-bit",
   "language": "python",
   "name": "python3"
  },
  "language_info": {
   "codemirror_mode": {
    "name": "ipython",
    "version": 3
   },
   "file_extension": ".py",
   "mimetype": "text/x-python",
   "name": "python",
   "nbconvert_exporter": "python",
   "pygments_lexer": "ipython3",
   "version": "3.10.5"
  },
  "orig_nbformat": 4,
  "vscode": {
   "interpreter": {
    "hash": "f2516cc4817bcce27beb828e8c33a14615bd23ef9ce6d8697265ad2aebde7478"
   }
  }
 },
 "nbformat": 4,
 "nbformat_minor": 2
}
